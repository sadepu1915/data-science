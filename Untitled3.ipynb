{
 "cells": [
  {
   "cell_type": "code",
   "execution_count": 1,
   "metadata": {
    "collapsed": true
   },
   "outputs": [],
   "source": [
    "import pandas as pd\n",
    "import numpy as np"
   ]
  },
  {
   "cell_type": "code",
   "execution_count": null,
   "metadata": {
    "collapsed": true
   },
   "outputs": [],
   "source": []
  },
  {
   "cell_type": "code",
   "execution_count": 2,
   "metadata": {
    "collapsed": false
   },
   "outputs": [],
   "source": [
    "s=pd.Series(np.random.randn(5), index=['a','b','c','d','e'])"
   ]
  },
  {
   "cell_type": "code",
   "execution_count": 3,
   "metadata": {
    "collapsed": false
   },
   "outputs": [
    {
     "data": {
      "text/plain": [
       "a   -2.682115\n",
       "b   -0.479125\n",
       "c    0.404646\n",
       "d    2.224435\n",
       "e    1.105873\n",
       "dtype: float64"
      ]
     },
     "execution_count": 3,
     "metadata": {},
     "output_type": "execute_result"
    }
   ],
   "source": [
    "s"
   ]
  },
  {
   "cell_type": "code",
   "execution_count": 4,
   "metadata": {
    "collapsed": false
   },
   "outputs": [
    {
     "data": {
      "text/plain": [
       "Index([u'a', u'b', u'c', u'd', u'e'], dtype='object')"
      ]
     },
     "execution_count": 4,
     "metadata": {},
     "output_type": "execute_result"
    }
   ],
   "source": [
    "s.index"
   ]
  },
  {
   "cell_type": "code",
   "execution_count": 5,
   "metadata": {
    "collapsed": false
   },
   "outputs": [
    {
     "data": {
      "text/plain": [
       "A     1\n",
       "B   NaN\n",
       "C   NaN\n",
       "D   NaN\n",
       "E   NaN\n",
       "dtype: float64"
      ]
     },
     "execution_count": 5,
     "metadata": {},
     "output_type": "execute_result"
    }
   ],
   "source": [
    "mylist={'A':1,'b':2,'c':3,'d':4,'e':5}\n",
    "s=pd.Series(mylist, index=['A','B','C','D','E'])\n",
    "s"
   ]
  },
  {
   "cell_type": "code",
   "execution_count": 7,
   "metadata": {
    "collapsed": false
   },
   "outputs": [],
   "source": [
    "s=pd.Series([1,2,3,4,5,7], index = ['A', 'B', 'C', 'D', 'E', 'F'])"
   ]
  },
  {
   "cell_type": "code",
   "execution_count": 12,
   "metadata": {
    "collapsed": false
   },
   "outputs": [
    {
     "data": {
      "text/plain": [
       "D    4\n",
       "E    5\n",
       "F    7\n",
       "dtype: int64"
      ]
     },
     "execution_count": 12,
     "metadata": {},
     "output_type": "execute_result"
    }
   ],
   "source": [
    "s[3:]"
   ]
  },
  {
   "cell_type": "code",
   "execution_count": 8,
   "metadata": {
    "collapsed": false
   },
   "outputs": [
    {
     "data": {
      "text/plain": [
       "D    4\n",
       "E    5\n",
       "F    7\n",
       "dtype: int64"
      ]
     },
     "execution_count": 8,
     "metadata": {},
     "output_type": "execute_result"
    }
   ],
   "source": [
    "s[s > s.mean()]"
   ]
  },
  {
   "cell_type": "code",
   "execution_count": 9,
   "metadata": {
    "collapsed": false
   },
   "outputs": [
    {
     "data": {
      "text/plain": [
       "A       2.718282\n",
       "B       7.389056\n",
       "C      20.085537\n",
       "D      54.598150\n",
       "E     148.413159\n",
       "F    1096.633158\n",
       "dtype: float64"
      ]
     },
     "execution_count": 9,
     "metadata": {},
     "output_type": "execute_result"
    }
   ],
   "source": [
    "np.exp(s)"
   ]
  },
  {
   "cell_type": "code",
   "execution_count": 10,
   "metadata": {
    "collapsed": false
   },
   "outputs": [
    {
     "data": {
      "text/plain": [
       "A    1\n",
       "B    2\n",
       "C    3\n",
       "D    4\n",
       "E    5\n",
       "F    7\n",
       "dtype: int64"
      ]
     },
     "execution_count": 10,
     "metadata": {},
     "output_type": "execute_result"
    }
   ],
   "source": [
    "s"
   ]
  },
  {
   "cell_type": "code",
   "execution_count": 11,
   "metadata": {
    "collapsed": false
   },
   "outputs": [
    {
     "data": {
      "text/plain": [
       "False"
      ]
     },
     "execution_count": 11,
     "metadata": {},
     "output_type": "execute_result"
    }
   ],
   "source": [
    "1 in s"
   ]
  },
  {
   "cell_type": "code",
   "execution_count": 12,
   "metadata": {
    "collapsed": false
   },
   "outputs": [
    {
     "data": {
      "text/plain": [
       "2"
      ]
     },
     "execution_count": 12,
     "metadata": {},
     "output_type": "execute_result"
    }
   ],
   "source": [
    "s[1]"
   ]
  },
  {
   "cell_type": "code",
   "execution_count": 13,
   "metadata": {
    "collapsed": false
   },
   "outputs": [
    {
     "data": {
      "text/plain": [
       "2"
      ]
     },
     "execution_count": 13,
     "metadata": {},
     "output_type": "execute_result"
    }
   ],
   "source": [
    "s['B']"
   ]
  },
  {
   "cell_type": "code",
   "execution_count": 14,
   "metadata": {
    "collapsed": false
   },
   "outputs": [
    {
     "data": {
      "text/plain": [
       "A     6\n",
       "B    12\n",
       "C    18\n",
       "D    24\n",
       "E    30\n",
       "F    42\n",
       "dtype: int64"
      ]
     },
     "execution_count": 14,
     "metadata": {},
     "output_type": "execute_result"
    }
   ],
   "source": [
    "s*2*3"
   ]
  },
  {
   "cell_type": "code",
   "execution_count": 15,
   "metadata": {
    "collapsed": true
   },
   "outputs": [],
   "source": [
    "s.name"
   ]
  },
  {
   "cell_type": "code",
   "execution_count": 16,
   "metadata": {
    "collapsed": false
   },
   "outputs": [],
   "source": [
    "mydict={'a':1,'b':2,'c':3,'d':4,'e':5}\n",
    "df=pd.DataFrame(mydict, index=['A','B','C','D','E'])"
   ]
  },
  {
   "cell_type": "code",
   "execution_count": 17,
   "metadata": {
    "collapsed": false
   },
   "outputs": [
    {
     "data": {
      "text/html": [
       "<div>\n",
       "<table border=\"1\" class=\"dataframe\">\n",
       "  <thead>\n",
       "    <tr style=\"text-align: right;\">\n",
       "      <th></th>\n",
       "      <th>a</th>\n",
       "      <th>b</th>\n",
       "      <th>c</th>\n",
       "      <th>d</th>\n",
       "      <th>e</th>\n",
       "    </tr>\n",
       "  </thead>\n",
       "  <tbody>\n",
       "    <tr>\n",
       "      <th>A</th>\n",
       "      <td>1</td>\n",
       "      <td>2</td>\n",
       "      <td>3</td>\n",
       "      <td>4</td>\n",
       "      <td>5</td>\n",
       "    </tr>\n",
       "    <tr>\n",
       "      <th>B</th>\n",
       "      <td>1</td>\n",
       "      <td>2</td>\n",
       "      <td>3</td>\n",
       "      <td>4</td>\n",
       "      <td>5</td>\n",
       "    </tr>\n",
       "    <tr>\n",
       "      <th>C</th>\n",
       "      <td>1</td>\n",
       "      <td>2</td>\n",
       "      <td>3</td>\n",
       "      <td>4</td>\n",
       "      <td>5</td>\n",
       "    </tr>\n",
       "    <tr>\n",
       "      <th>D</th>\n",
       "      <td>1</td>\n",
       "      <td>2</td>\n",
       "      <td>3</td>\n",
       "      <td>4</td>\n",
       "      <td>5</td>\n",
       "    </tr>\n",
       "    <tr>\n",
       "      <th>E</th>\n",
       "      <td>1</td>\n",
       "      <td>2</td>\n",
       "      <td>3</td>\n",
       "      <td>4</td>\n",
       "      <td>5</td>\n",
       "    </tr>\n",
       "  </tbody>\n",
       "</table>\n",
       "</div>"
      ],
      "text/plain": [
       "   a  b  c  d  e\n",
       "A  1  2  3  4  5\n",
       "B  1  2  3  4  5\n",
       "C  1  2  3  4  5\n",
       "D  1  2  3  4  5\n",
       "E  1  2  3  4  5"
      ]
     },
     "execution_count": 17,
     "metadata": {},
     "output_type": "execute_result"
    }
   ],
   "source": [
    "df"
   ]
  },
  {
   "cell_type": "code",
   "execution_count": 18,
   "metadata": {
    "collapsed": false
   },
   "outputs": [
    {
     "data": {
      "text/plain": [
       "Index([u'A', u'B', u'C', u'D', u'E'], dtype='object')"
      ]
     },
     "execution_count": 18,
     "metadata": {},
     "output_type": "execute_result"
    }
   ],
   "source": [
    "df.index"
   ]
  },
  {
   "cell_type": "code",
   "execution_count": 19,
   "metadata": {
    "collapsed": false
   },
   "outputs": [
    {
     "data": {
      "text/plain": [
       "Index([u'a', u'b', u'c', u'd', u'e'], dtype='object')"
      ]
     },
     "execution_count": 19,
     "metadata": {},
     "output_type": "execute_result"
    }
   ],
   "source": [
    "df.columns"
   ]
  },
  {
   "cell_type": "code",
   "execution_count": 20,
   "metadata": {
    "collapsed": true
   },
   "outputs": [],
   "source": [
    "myList=['a','b','c','d','e']\n",
    "df=pd.DataFrame(myList)"
   ]
  },
  {
   "cell_type": "code",
   "execution_count": 81,
   "metadata": {
    "collapsed": false
   },
   "outputs": [
    {
     "data": {
      "text/html": [
       "<div>\n",
       "<table border=\"1\" class=\"dataframe\">\n",
       "  <thead>\n",
       "    <tr style=\"text-align: right;\">\n",
       "      <th></th>\n",
       "      <th>0</th>\n",
       "    </tr>\n",
       "  </thead>\n",
       "  <tbody>\n",
       "    <tr>\n",
       "      <th>0</th>\n",
       "      <td>a</td>\n",
       "    </tr>\n",
       "    <tr>\n",
       "      <th>1</th>\n",
       "      <td>b</td>\n",
       "    </tr>\n",
       "    <tr>\n",
       "      <th>2</th>\n",
       "      <td>c</td>\n",
       "    </tr>\n",
       "    <tr>\n",
       "      <th>3</th>\n",
       "      <td>d</td>\n",
       "    </tr>\n",
       "    <tr>\n",
       "      <th>4</th>\n",
       "      <td>e</td>\n",
       "    </tr>\n",
       "  </tbody>\n",
       "</table>\n",
       "</div>"
      ],
      "text/plain": [
       "   0\n",
       "0  a\n",
       "1  b\n",
       "2  c\n",
       "3  d\n",
       "4  e"
      ]
     },
     "execution_count": 81,
     "metadata": {},
     "output_type": "execute_result"
    }
   ],
   "source": [
    "df"
   ]
  },
  {
   "cell_type": "code",
   "execution_count": 21,
   "metadata": {
    "collapsed": false
   },
   "outputs": [
    {
     "data": {
      "text/html": [
       "<div>\n",
       "<table border=\"1\" class=\"dataframe\">\n",
       "  <thead>\n",
       "    <tr style=\"text-align: right;\">\n",
       "      <th></th>\n",
       "      <th>one</th>\n",
       "    </tr>\n",
       "  </thead>\n",
       "  <tbody>\n",
       "    <tr>\n",
       "      <th>a</th>\n",
       "      <td>1</td>\n",
       "    </tr>\n",
       "    <tr>\n",
       "      <th>b</th>\n",
       "      <td>2</td>\n",
       "    </tr>\n",
       "    <tr>\n",
       "      <th>c</th>\n",
       "      <td>3</td>\n",
       "    </tr>\n",
       "  </tbody>\n",
       "</table>\n",
       "</div>"
      ],
      "text/plain": [
       "   one\n",
       "a    1\n",
       "b    2\n",
       "c    3"
      ]
     },
     "execution_count": 21,
     "metadata": {},
     "output_type": "execute_result"
    }
   ],
   "source": [
    "d={'one':pd.Series([1,2,3], index=['a','b','c'])}\n",
    "df1=pd.DataFrame(d)\n",
    "d1={'one':pd.Series([1,2,3], index=['a','b','c']), 'two':pd.Series([1,2,3,4], index=['a','b','c','d'])}\n",
    "df2=pd.DataFrame(d1)\n",
    "\n",
    "df1"
   ]
  },
  {
   "cell_type": "code",
   "execution_count": 22,
   "metadata": {
    "collapsed": false
   },
   "outputs": [
    {
     "data": {
      "text/html": [
       "<div>\n",
       "<table border=\"1\" class=\"dataframe\">\n",
       "  <thead>\n",
       "    <tr style=\"text-align: right;\">\n",
       "      <th></th>\n",
       "      <th>one</th>\n",
       "      <th>two</th>\n",
       "    </tr>\n",
       "  </thead>\n",
       "  <tbody>\n",
       "    <tr>\n",
       "      <th>a</th>\n",
       "      <td>1</td>\n",
       "      <td>1</td>\n",
       "    </tr>\n",
       "    <tr>\n",
       "      <th>b</th>\n",
       "      <td>2</td>\n",
       "      <td>2</td>\n",
       "    </tr>\n",
       "    <tr>\n",
       "      <th>c</th>\n",
       "      <td>3</td>\n",
       "      <td>3</td>\n",
       "    </tr>\n",
       "    <tr>\n",
       "      <th>d</th>\n",
       "      <td>NaN</td>\n",
       "      <td>4</td>\n",
       "    </tr>\n",
       "  </tbody>\n",
       "</table>\n",
       "</div>"
      ],
      "text/plain": [
       "   one  two\n",
       "a    1    1\n",
       "b    2    2\n",
       "c    3    3\n",
       "d  NaN    4"
      ]
     },
     "execution_count": 22,
     "metadata": {},
     "output_type": "execute_result"
    }
   ],
   "source": [
    "df2"
   ]
  },
  {
   "cell_type": "code",
   "execution_count": 23,
   "metadata": {
    "collapsed": false
   },
   "outputs": [
    {
     "data": {
      "text/html": [
       "<div>\n",
       "<table border=\"1\" class=\"dataframe\">\n",
       "  <thead>\n",
       "    <tr style=\"text-align: right;\">\n",
       "      <th></th>\n",
       "      <th>one</th>\n",
       "      <th>two</th>\n",
       "    </tr>\n",
       "  </thead>\n",
       "  <tbody>\n",
       "    <tr>\n",
       "      <th>d</th>\n",
       "      <td>NaN</td>\n",
       "      <td>4</td>\n",
       "    </tr>\n",
       "    <tr>\n",
       "      <th>b</th>\n",
       "      <td>2</td>\n",
       "      <td>2</td>\n",
       "    </tr>\n",
       "    <tr>\n",
       "      <th>a</th>\n",
       "      <td>1</td>\n",
       "      <td>1</td>\n",
       "    </tr>\n",
       "  </tbody>\n",
       "</table>\n",
       "</div>"
      ],
      "text/plain": [
       "   one  two\n",
       "d  NaN    4\n",
       "b    2    2\n",
       "a    1    1"
      ]
     },
     "execution_count": 23,
     "metadata": {},
     "output_type": "execute_result"
    }
   ],
   "source": [
    "pd.DataFrame(d1,index=['d','b','a'])"
   ]
  },
  {
   "cell_type": "code",
   "execution_count": 24,
   "metadata": {
    "collapsed": false
   },
   "outputs": [],
   "source": [
    "df3=pd.DataFrame(d1,index=['d','b','a'], columns=['two', 'three'])"
   ]
  },
  {
   "cell_type": "code",
   "execution_count": 21,
   "metadata": {
    "collapsed": false
   },
   "outputs": [
    {
     "data": {
      "text/html": [
       "<div>\n",
       "<table border=\"1\" class=\"dataframe\">\n",
       "  <thead>\n",
       "    <tr style=\"text-align: right;\">\n",
       "      <th></th>\n",
       "      <th>two</th>\n",
       "      <th>three</th>\n",
       "    </tr>\n",
       "  </thead>\n",
       "  <tbody>\n",
       "    <tr>\n",
       "      <th>d</th>\n",
       "      <td>4</td>\n",
       "      <td>NaN</td>\n",
       "    </tr>\n",
       "    <tr>\n",
       "      <th>b</th>\n",
       "      <td>2</td>\n",
       "      <td>NaN</td>\n",
       "    </tr>\n",
       "    <tr>\n",
       "      <th>a</th>\n",
       "      <td>1</td>\n",
       "      <td>NaN</td>\n",
       "    </tr>\n",
       "  </tbody>\n",
       "</table>\n",
       "</div>"
      ],
      "text/plain": [
       "   two three\n",
       "d    4   NaN\n",
       "b    2   NaN\n",
       "a    1   NaN"
      ]
     },
     "execution_count": 21,
     "metadata": {},
     "output_type": "execute_result"
    }
   ],
   "source": [
    "df3"
   ]
  },
  {
   "cell_type": "code",
   "execution_count": 22,
   "metadata": {
    "collapsed": false
   },
   "outputs": [
    {
     "data": {
      "text/plain": [
       "Index([u'd', u'b', u'a'], dtype='object')"
      ]
     },
     "execution_count": 22,
     "metadata": {},
     "output_type": "execute_result"
    }
   ],
   "source": [
    "df3.index"
   ]
  },
  {
   "cell_type": "code",
   "execution_count": 23,
   "metadata": {
    "collapsed": false
   },
   "outputs": [
    {
     "data": {
      "text/plain": [
       "Index([u'two', u'three'], dtype='object')"
      ]
     },
     "execution_count": 23,
     "metadata": {},
     "output_type": "execute_result"
    }
   ],
   "source": [
    "df3.columns"
   ]
  },
  {
   "cell_type": "code",
   "execution_count": 45,
   "metadata": {
    "collapsed": false
   },
   "outputs": [
    {
     "data": {
      "text/plain": [
       "0    Hello\n",
       "1    Hello\n",
       "2    Hello\n",
       "Name: two, dtype: object"
      ]
     },
     "execution_count": 45,
     "metadata": {},
     "output_type": "execute_result"
    }
   ],
   "source": [
    "#df3['two']\n",
    "df3.two"
   ]
  },
  {
   "cell_type": "code",
   "execution_count": 25,
   "metadata": {
    "collapsed": false
   },
   "outputs": [],
   "source": [
    "#df3['b']\n",
    "#dataFrame only access by columns\n",
    "#can access elements like dictionary\n",
    "df3=pd.DataFrame([1,2,3])"
   ]
  },
  {
   "cell_type": "code",
   "execution_count": 25,
   "metadata": {
    "collapsed": false
   },
   "outputs": [
    {
     "data": {
      "text/html": [
       "<div>\n",
       "<table border=\"1\" class=\"dataframe\">\n",
       "  <thead>\n",
       "    <tr style=\"text-align: right;\">\n",
       "      <th></th>\n",
       "      <th>two</th>\n",
       "      <th>three</th>\n",
       "    </tr>\n",
       "  </thead>\n",
       "  <tbody>\n",
       "    <tr>\n",
       "      <th>d</th>\n",
       "      <td>4</td>\n",
       "      <td>NaN</td>\n",
       "    </tr>\n",
       "    <tr>\n",
       "      <th>b</th>\n",
       "      <td>2</td>\n",
       "      <td>NaN</td>\n",
       "    </tr>\n",
       "    <tr>\n",
       "      <th>a</th>\n",
       "      <td>1</td>\n",
       "      <td>NaN</td>\n",
       "    </tr>\n",
       "  </tbody>\n",
       "</table>\n",
       "</div>"
      ],
      "text/plain": [
       "   two three\n",
       "d    4   NaN\n",
       "b    2   NaN\n",
       "a    1   NaN"
      ]
     },
     "execution_count": 25,
     "metadata": {},
     "output_type": "execute_result"
    }
   ],
   "source": [
    "df3"
   ]
  },
  {
   "cell_type": "code",
   "execution_count": 27,
   "metadata": {
    "collapsed": false
   },
   "outputs": [
    {
     "ename": "KeyError",
     "evalue": "0",
     "output_type": "error",
     "traceback": [
      "\u001b[0;31m---------------------------------------------------------------------------\u001b[0m",
      "\u001b[0;31mKeyError\u001b[0m                                  Traceback (most recent call last)",
      "\u001b[0;32m<ipython-input-27-a094f3d0e627>\u001b[0m in \u001b[0;36m<module>\u001b[0;34m()\u001b[0m\n\u001b[0;32m----> 1\u001b[0;31m \u001b[0mdf3\u001b[0m\u001b[0;34m[\u001b[0m\u001b[0;36m0\u001b[0m\u001b[0;34m]\u001b[0m\u001b[0;34m\u001b[0m\u001b[0m\n\u001b[0m",
      "\u001b[0;32m/Users/Srinivas/Desktop/Srinivas/DataScience/anaconda/lib/python2.7/site-packages/pandas/core/frame.pyc\u001b[0m in \u001b[0;36m__getitem__\u001b[0;34m(self, key)\u001b[0m\n\u001b[1;32m   1795\u001b[0m             \u001b[0;32mreturn\u001b[0m \u001b[0mself\u001b[0m\u001b[0;34m.\u001b[0m\u001b[0m_getitem_multilevel\u001b[0m\u001b[0;34m(\u001b[0m\u001b[0mkey\u001b[0m\u001b[0;34m)\u001b[0m\u001b[0;34m\u001b[0m\u001b[0m\n\u001b[1;32m   1796\u001b[0m         \u001b[0;32melse\u001b[0m\u001b[0;34m:\u001b[0m\u001b[0;34m\u001b[0m\u001b[0m\n\u001b[0;32m-> 1797\u001b[0;31m             \u001b[0;32mreturn\u001b[0m \u001b[0mself\u001b[0m\u001b[0;34m.\u001b[0m\u001b[0m_getitem_column\u001b[0m\u001b[0;34m(\u001b[0m\u001b[0mkey\u001b[0m\u001b[0;34m)\u001b[0m\u001b[0;34m\u001b[0m\u001b[0m\n\u001b[0m\u001b[1;32m   1798\u001b[0m \u001b[0;34m\u001b[0m\u001b[0m\n\u001b[1;32m   1799\u001b[0m     \u001b[0;32mdef\u001b[0m \u001b[0m_getitem_column\u001b[0m\u001b[0;34m(\u001b[0m\u001b[0mself\u001b[0m\u001b[0;34m,\u001b[0m \u001b[0mkey\u001b[0m\u001b[0;34m)\u001b[0m\u001b[0;34m:\u001b[0m\u001b[0;34m\u001b[0m\u001b[0m\n",
      "\u001b[0;32m/Users/Srinivas/Desktop/Srinivas/DataScience/anaconda/lib/python2.7/site-packages/pandas/core/frame.pyc\u001b[0m in \u001b[0;36m_getitem_column\u001b[0;34m(self, key)\u001b[0m\n\u001b[1;32m   1802\u001b[0m         \u001b[0;31m# get column\u001b[0m\u001b[0;34m\u001b[0m\u001b[0;34m\u001b[0m\u001b[0m\n\u001b[1;32m   1803\u001b[0m         \u001b[0;32mif\u001b[0m \u001b[0mself\u001b[0m\u001b[0;34m.\u001b[0m\u001b[0mcolumns\u001b[0m\u001b[0;34m.\u001b[0m\u001b[0mis_unique\u001b[0m\u001b[0;34m:\u001b[0m\u001b[0;34m\u001b[0m\u001b[0m\n\u001b[0;32m-> 1804\u001b[0;31m             \u001b[0;32mreturn\u001b[0m \u001b[0mself\u001b[0m\u001b[0;34m.\u001b[0m\u001b[0m_get_item_cache\u001b[0m\u001b[0;34m(\u001b[0m\u001b[0mkey\u001b[0m\u001b[0;34m)\u001b[0m\u001b[0;34m\u001b[0m\u001b[0m\n\u001b[0m\u001b[1;32m   1805\u001b[0m \u001b[0;34m\u001b[0m\u001b[0m\n\u001b[1;32m   1806\u001b[0m         \u001b[0;31m# duplicate columns & possible reduce dimensionaility\u001b[0m\u001b[0;34m\u001b[0m\u001b[0;34m\u001b[0m\u001b[0m\n",
      "\u001b[0;32m/Users/Srinivas/Desktop/Srinivas/DataScience/anaconda/lib/python2.7/site-packages/pandas/core/generic.pyc\u001b[0m in \u001b[0;36m_get_item_cache\u001b[0;34m(self, item)\u001b[0m\n\u001b[1;32m   1082\u001b[0m         \u001b[0mres\u001b[0m \u001b[0;34m=\u001b[0m \u001b[0mcache\u001b[0m\u001b[0;34m.\u001b[0m\u001b[0mget\u001b[0m\u001b[0;34m(\u001b[0m\u001b[0mitem\u001b[0m\u001b[0;34m)\u001b[0m\u001b[0;34m\u001b[0m\u001b[0m\n\u001b[1;32m   1083\u001b[0m         \u001b[0;32mif\u001b[0m \u001b[0mres\u001b[0m \u001b[0;32mis\u001b[0m \u001b[0mNone\u001b[0m\u001b[0;34m:\u001b[0m\u001b[0;34m\u001b[0m\u001b[0m\n\u001b[0;32m-> 1084\u001b[0;31m             \u001b[0mvalues\u001b[0m \u001b[0;34m=\u001b[0m \u001b[0mself\u001b[0m\u001b[0;34m.\u001b[0m\u001b[0m_data\u001b[0m\u001b[0;34m.\u001b[0m\u001b[0mget\u001b[0m\u001b[0;34m(\u001b[0m\u001b[0mitem\u001b[0m\u001b[0;34m)\u001b[0m\u001b[0;34m\u001b[0m\u001b[0m\n\u001b[0m\u001b[1;32m   1085\u001b[0m             \u001b[0mres\u001b[0m \u001b[0;34m=\u001b[0m \u001b[0mself\u001b[0m\u001b[0;34m.\u001b[0m\u001b[0m_box_item_values\u001b[0m\u001b[0;34m(\u001b[0m\u001b[0mitem\u001b[0m\u001b[0;34m,\u001b[0m \u001b[0mvalues\u001b[0m\u001b[0;34m)\u001b[0m\u001b[0;34m\u001b[0m\u001b[0m\n\u001b[1;32m   1086\u001b[0m             \u001b[0mcache\u001b[0m\u001b[0;34m[\u001b[0m\u001b[0mitem\u001b[0m\u001b[0;34m]\u001b[0m \u001b[0;34m=\u001b[0m \u001b[0mres\u001b[0m\u001b[0;34m\u001b[0m\u001b[0m\n",
      "\u001b[0;32m/Users/Srinivas/Desktop/Srinivas/DataScience/anaconda/lib/python2.7/site-packages/pandas/core/internals.pyc\u001b[0m in \u001b[0;36mget\u001b[0;34m(self, item, fastpath)\u001b[0m\n\u001b[1;32m   2849\u001b[0m \u001b[0;34m\u001b[0m\u001b[0m\n\u001b[1;32m   2850\u001b[0m             \u001b[0;32mif\u001b[0m \u001b[0;32mnot\u001b[0m \u001b[0misnull\u001b[0m\u001b[0;34m(\u001b[0m\u001b[0mitem\u001b[0m\u001b[0;34m)\u001b[0m\u001b[0;34m:\u001b[0m\u001b[0;34m\u001b[0m\u001b[0m\n\u001b[0;32m-> 2851\u001b[0;31m                 \u001b[0mloc\u001b[0m \u001b[0;34m=\u001b[0m \u001b[0mself\u001b[0m\u001b[0;34m.\u001b[0m\u001b[0mitems\u001b[0m\u001b[0;34m.\u001b[0m\u001b[0mget_loc\u001b[0m\u001b[0;34m(\u001b[0m\u001b[0mitem\u001b[0m\u001b[0;34m)\u001b[0m\u001b[0;34m\u001b[0m\u001b[0m\n\u001b[0m\u001b[1;32m   2852\u001b[0m             \u001b[0;32melse\u001b[0m\u001b[0;34m:\u001b[0m\u001b[0;34m\u001b[0m\u001b[0m\n\u001b[1;32m   2853\u001b[0m                 \u001b[0mindexer\u001b[0m \u001b[0;34m=\u001b[0m \u001b[0mnp\u001b[0m\u001b[0;34m.\u001b[0m\u001b[0marange\u001b[0m\u001b[0;34m(\u001b[0m\u001b[0mlen\u001b[0m\u001b[0;34m(\u001b[0m\u001b[0mself\u001b[0m\u001b[0;34m.\u001b[0m\u001b[0mitems\u001b[0m\u001b[0;34m)\u001b[0m\u001b[0;34m)\u001b[0m\u001b[0;34m[\u001b[0m\u001b[0misnull\u001b[0m\u001b[0;34m(\u001b[0m\u001b[0mself\u001b[0m\u001b[0;34m.\u001b[0m\u001b[0mitems\u001b[0m\u001b[0;34m)\u001b[0m\u001b[0;34m]\u001b[0m\u001b[0;34m\u001b[0m\u001b[0m\n",
      "\u001b[0;32m/Users/Srinivas/Desktop/Srinivas/DataScience/anaconda/lib/python2.7/site-packages/pandas/core/index.pyc\u001b[0m in \u001b[0;36mget_loc\u001b[0;34m(self, key, method)\u001b[0m\n\u001b[1;32m   1570\u001b[0m         \"\"\"\n\u001b[1;32m   1571\u001b[0m         \u001b[0;32mif\u001b[0m \u001b[0mmethod\u001b[0m \u001b[0;32mis\u001b[0m \u001b[0mNone\u001b[0m\u001b[0;34m:\u001b[0m\u001b[0;34m\u001b[0m\u001b[0m\n\u001b[0;32m-> 1572\u001b[0;31m             \u001b[0;32mreturn\u001b[0m \u001b[0mself\u001b[0m\u001b[0;34m.\u001b[0m\u001b[0m_engine\u001b[0m\u001b[0;34m.\u001b[0m\u001b[0mget_loc\u001b[0m\u001b[0;34m(\u001b[0m\u001b[0m_values_from_object\u001b[0m\u001b[0;34m(\u001b[0m\u001b[0mkey\u001b[0m\u001b[0;34m)\u001b[0m\u001b[0;34m)\u001b[0m\u001b[0;34m\u001b[0m\u001b[0m\n\u001b[0m\u001b[1;32m   1573\u001b[0m \u001b[0;34m\u001b[0m\u001b[0m\n\u001b[1;32m   1574\u001b[0m         \u001b[0mindexer\u001b[0m \u001b[0;34m=\u001b[0m \u001b[0mself\u001b[0m\u001b[0;34m.\u001b[0m\u001b[0mget_indexer\u001b[0m\u001b[0;34m(\u001b[0m\u001b[0;34m[\u001b[0m\u001b[0mkey\u001b[0m\u001b[0;34m]\u001b[0m\u001b[0;34m,\u001b[0m \u001b[0mmethod\u001b[0m\u001b[0;34m=\u001b[0m\u001b[0mmethod\u001b[0m\u001b[0;34m)\u001b[0m\u001b[0;34m\u001b[0m\u001b[0m\n",
      "\u001b[0;32mpandas/index.pyx\u001b[0m in \u001b[0;36mpandas.index.IndexEngine.get_loc (pandas/index.c:3824)\u001b[0;34m()\u001b[0m\n",
      "\u001b[0;32mpandas/index.pyx\u001b[0m in \u001b[0;36mpandas.index.IndexEngine.get_loc (pandas/index.c:3704)\u001b[0;34m()\u001b[0m\n",
      "\u001b[0;32mpandas/hashtable.pyx\u001b[0m in \u001b[0;36mpandas.hashtable.PyObjectHashTable.get_item (pandas/hashtable.c:12280)\u001b[0;34m()\u001b[0m\n",
      "\u001b[0;32mpandas/hashtable.pyx\u001b[0m in \u001b[0;36mpandas.hashtable.PyObjectHashTable.get_item (pandas/hashtable.c:12231)\u001b[0;34m()\u001b[0m\n",
      "\u001b[0;31mKeyError\u001b[0m: 0"
     ]
    }
   ],
   "source": [
    "df3[0]"
   ]
  },
  {
   "cell_type": "code",
   "execution_count": 27,
   "metadata": {
    "collapsed": true
   },
   "outputs": [],
   "source": [
    "#adding elements diff column\n",
    "df3['One'] = df3[0]*5"
   ]
  },
  {
   "cell_type": "code",
   "execution_count": 105,
   "metadata": {
    "collapsed": false
   },
   "outputs": [
    {
     "data": {
      "text/html": [
       "<div>\n",
       "<table border=\"1\" class=\"dataframe\">\n",
       "  <thead>\n",
       "    <tr style=\"text-align: right;\">\n",
       "      <th></th>\n",
       "      <th>0</th>\n",
       "      <th>One</th>\n",
       "    </tr>\n",
       "  </thead>\n",
       "  <tbody>\n",
       "    <tr>\n",
       "      <th>0</th>\n",
       "      <td>1</td>\n",
       "      <td>5</td>\n",
       "    </tr>\n",
       "    <tr>\n",
       "      <th>1</th>\n",
       "      <td>2</td>\n",
       "      <td>10</td>\n",
       "    </tr>\n",
       "    <tr>\n",
       "      <th>2</th>\n",
       "      <td>3</td>\n",
       "      <td>15</td>\n",
       "    </tr>\n",
       "  </tbody>\n",
       "</table>\n",
       "</div>"
      ],
      "text/plain": [
       "   0  One\n",
       "0  1    5\n",
       "1  2   10\n",
       "2  3   15"
      ]
     },
     "execution_count": 105,
     "metadata": {},
     "output_type": "execute_result"
    }
   ],
   "source": [
    "df3"
   ]
  },
  {
   "cell_type": "code",
   "execution_count": 28,
   "metadata": {
    "collapsed": false
   },
   "outputs": [
    {
     "data": {
      "text/html": [
       "<div>\n",
       "<table border=\"1\" class=\"dataframe\">\n",
       "  <thead>\n",
       "    <tr style=\"text-align: right;\">\n",
       "      <th></th>\n",
       "      <th>0</th>\n",
       "      <th>One</th>\n",
       "      <th>two</th>\n",
       "    </tr>\n",
       "  </thead>\n",
       "  <tbody>\n",
       "    <tr>\n",
       "      <th>0</th>\n",
       "      <td>1</td>\n",
       "      <td>5</td>\n",
       "      <td>Hello</td>\n",
       "    </tr>\n",
       "    <tr>\n",
       "      <th>1</th>\n",
       "      <td>2</td>\n",
       "      <td>10</td>\n",
       "      <td>Hello</td>\n",
       "    </tr>\n",
       "    <tr>\n",
       "      <th>2</th>\n",
       "      <td>3</td>\n",
       "      <td>15</td>\n",
       "      <td>Hello</td>\n",
       "    </tr>\n",
       "  </tbody>\n",
       "</table>\n",
       "</div>"
      ],
      "text/plain": [
       "   0  One    two\n",
       "0  1    5  Hello\n",
       "1  2   10  Hello\n",
       "2  3   15  Hello"
      ]
     },
     "execution_count": 28,
     "metadata": {},
     "output_type": "execute_result"
    }
   ],
   "source": [
    "df3['two']='Hello'\n",
    "df3\n"
   ]
  },
  {
   "cell_type": "code",
   "execution_count": 29,
   "metadata": {
    "collapsed": false
   },
   "outputs": [
    {
     "data": {
      "text/plain": [
       "0          2\n",
       "One       10\n",
       "two    Hello\n",
       "Name: 1, dtype: object"
      ]
     },
     "execution_count": 29,
     "metadata": {},
     "output_type": "execute_result"
    }
   ],
   "source": [
    "#accessing rows\n",
    "df3.loc[1]\n"
   ]
  },
  {
   "cell_type": "code",
   "execution_count": 31,
   "metadata": {
    "collapsed": false
   },
   "outputs": [
    {
     "data": {
      "text/plain": [
       "0          2\n",
       "One       10\n",
       "two    Hello\n",
       "Name: 1, dtype: object"
      ]
     },
     "execution_count": 31,
     "metadata": {},
     "output_type": "execute_result"
    }
   ],
   "source": [
    "df3.iloc[1]"
   ]
  },
  {
   "cell_type": "code",
   "execution_count": 32,
   "metadata": {
    "collapsed": true
   },
   "outputs": [],
   "source": [
    "str=\"srinivas\""
   ]
  },
  {
   "cell_type": "code",
   "execution_count": 33,
   "metadata": {
    "collapsed": false
   },
   "outputs": [
    {
     "data": {
      "text/plain": [
       "'srinivas'"
      ]
     },
     "execution_count": 33,
     "metadata": {},
     "output_type": "execute_result"
    }
   ],
   "source": [
    "str"
   ]
  },
  {
   "cell_type": "code",
   "execution_count": 39,
   "metadata": {
    "collapsed": false
   },
   "outputs": [
    {
     "data": {
      "text/plain": [
       "'sri'"
      ]
     },
     "execution_count": 39,
     "metadata": {},
     "output_type": "execute_result"
    }
   ],
   "source": [
    "str[:3]"
   ]
  },
  {
   "cell_type": "code",
   "execution_count": 5,
   "metadata": {
    "collapsed": false
   },
   "outputs": [],
   "source": [
    "df4=pd.DataFrame([1,2,3], index=['a','b','c'], columns=['A'])"
   ]
  },
  {
   "cell_type": "code",
   "execution_count": 47,
   "metadata": {
    "collapsed": false
   },
   "outputs": [
    {
     "data": {
      "text/html": [
       "<div>\n",
       "<table border=\"1\" class=\"dataframe\">\n",
       "  <thead>\n",
       "    <tr style=\"text-align: right;\">\n",
       "      <th></th>\n",
       "      <th>A</th>\n",
       "    </tr>\n",
       "  </thead>\n",
       "  <tbody>\n",
       "    <tr>\n",
       "      <th>a</th>\n",
       "      <td>1</td>\n",
       "    </tr>\n",
       "    <tr>\n",
       "      <th>b</th>\n",
       "      <td>2</td>\n",
       "    </tr>\n",
       "    <tr>\n",
       "      <th>c</th>\n",
       "      <td>3</td>\n",
       "    </tr>\n",
       "  </tbody>\n",
       "</table>\n",
       "</div>"
      ],
      "text/plain": [
       "   A\n",
       "a  1\n",
       "b  2\n",
       "c  3"
      ]
     },
     "execution_count": 47,
     "metadata": {},
     "output_type": "execute_result"
    }
   ],
   "source": [
    "df4\n"
   ]
  },
  {
   "cell_type": "code",
   "execution_count": 11,
   "metadata": {
    "collapsed": false
   },
   "outputs": [
    {
     "data": {
      "text/plain": [
       "<matplotlib.axes._subplots.AxesSubplot at 0x10644c2d0>"
      ]
     },
     "execution_count": 11,
     "metadata": {},
     "output_type": "execute_result"
    }
   ],
   "source": [
    "df4['A'].plot()"
   ]
  },
  {
   "cell_type": "code",
   "execution_count": 10,
   "metadata": {
    "collapsed": false
   },
   "outputs": [
    {
     "data": {
      "text/plain": [
       "<matplotlib.axes._subplots.AxesSubplot at 0x10644c2d0>"
      ]
     },
     "execution_count": 10,
     "metadata": {},
     "output_type": "execute_result"
    }
   ],
   "source": [
    "df4.A.plot()"
   ]
  },
  {
   "cell_type": "code",
   "execution_count": 54,
   "metadata": {
    "collapsed": false
   },
   "outputs": [
    {
     "data": {
      "text/plain": [
       "A    2\n",
       "Name: b, dtype: int64"
      ]
     },
     "execution_count": 54,
     "metadata": {},
     "output_type": "execute_result"
    }
   ],
   "source": [
    "df4.loc['b']"
   ]
  },
  {
   "cell_type": "code",
   "execution_count": 55,
   "metadata": {
    "collapsed": false
   },
   "outputs": [
    {
     "data": {
      "text/plain": [
       "A    3\n",
       "Name: c, dtype: int64"
      ]
     },
     "execution_count": 55,
     "metadata": {},
     "output_type": "execute_result"
    }
   ],
   "source": [
    "df4.iloc[2]"
   ]
  },
  {
   "cell_type": "code",
   "execution_count": 60,
   "metadata": {
    "collapsed": false
   },
   "outputs": [
    {
     "data": {
      "text/html": [
       "<div>\n",
       "<table border=\"1\" class=\"dataframe\">\n",
       "  <thead>\n",
       "    <tr style=\"text-align: right;\">\n",
       "      <th></th>\n",
       "      <th>0</th>\n",
       "      <th>A</th>\n",
       "      <th>One</th>\n",
       "      <th>two</th>\n",
       "    </tr>\n",
       "  </thead>\n",
       "  <tbody>\n",
       "    <tr>\n",
       "      <th>0</th>\n",
       "      <td>NaN</td>\n",
       "      <td>NaN</td>\n",
       "      <td>NaN</td>\n",
       "      <td>NaN</td>\n",
       "    </tr>\n",
       "    <tr>\n",
       "      <th>1</th>\n",
       "      <td>NaN</td>\n",
       "      <td>NaN</td>\n",
       "      <td>NaN</td>\n",
       "      <td>NaN</td>\n",
       "    </tr>\n",
       "    <tr>\n",
       "      <th>2</th>\n",
       "      <td>NaN</td>\n",
       "      <td>NaN</td>\n",
       "      <td>NaN</td>\n",
       "      <td>NaN</td>\n",
       "    </tr>\n",
       "    <tr>\n",
       "      <th>a</th>\n",
       "      <td>NaN</td>\n",
       "      <td>NaN</td>\n",
       "      <td>NaN</td>\n",
       "      <td>NaN</td>\n",
       "    </tr>\n",
       "    <tr>\n",
       "      <th>b</th>\n",
       "      <td>NaN</td>\n",
       "      <td>NaN</td>\n",
       "      <td>NaN</td>\n",
       "      <td>NaN</td>\n",
       "    </tr>\n",
       "    <tr>\n",
       "      <th>c</th>\n",
       "      <td>NaN</td>\n",
       "      <td>NaN</td>\n",
       "      <td>NaN</td>\n",
       "      <td>NaN</td>\n",
       "    </tr>\n",
       "  </tbody>\n",
       "</table>\n",
       "</div>"
      ],
      "text/plain": [
       "    0   A  One  two\n",
       "0 NaN NaN  NaN  NaN\n",
       "1 NaN NaN  NaN  NaN\n",
       "2 NaN NaN  NaN  NaN\n",
       "a NaN NaN  NaN  NaN\n",
       "b NaN NaN  NaN  NaN\n",
       "c NaN NaN  NaN  NaN"
      ]
     },
     "execution_count": 60,
     "metadata": {},
     "output_type": "execute_result"
    }
   ],
   "source": [
    "#All boolean operatos can do with Df and Series\n",
    "df3+df4"
   ]
  },
  {
   "cell_type": "code",
   "execution_count": 1,
   "metadata": {
    "collapsed": false
   },
   "outputs": [],
   "source": [
    "#1/df3\n",
    "#df3 * df4"
   ]
  },
  {
   "cell_type": "code",
   "execution_count": 17,
   "metadata": {
    "collapsed": false
   },
   "outputs": [],
   "source": [
    "mydct=[('Bob',968),(\"Jess\",155),(\"Mary\",77),(\"John\",600),(\"Mel\",975)]\n",
    "df5=pd.DataFrame(mydct, index=[0,1,2,3,4], columns=['Names', 'Births'])"
   ]
  },
  {
   "cell_type": "code",
   "execution_count": 18,
   "metadata": {
    "collapsed": false
   },
   "outputs": [
    {
     "data": {
      "text/html": [
       "<div>\n",
       "<table border=\"1\" class=\"dataframe\">\n",
       "  <thead>\n",
       "    <tr style=\"text-align: right;\">\n",
       "      <th></th>\n",
       "      <th>Names</th>\n",
       "      <th>Births</th>\n",
       "    </tr>\n",
       "  </thead>\n",
       "  <tbody>\n",
       "    <tr>\n",
       "      <th>0</th>\n",
       "      <td>Bob</td>\n",
       "      <td>968</td>\n",
       "    </tr>\n",
       "    <tr>\n",
       "      <th>1</th>\n",
       "      <td>Jess</td>\n",
       "      <td>155</td>\n",
       "    </tr>\n",
       "    <tr>\n",
       "      <th>2</th>\n",
       "      <td>Mary</td>\n",
       "      <td>77</td>\n",
       "    </tr>\n",
       "    <tr>\n",
       "      <th>3</th>\n",
       "      <td>John</td>\n",
       "      <td>600</td>\n",
       "    </tr>\n",
       "    <tr>\n",
       "      <th>4</th>\n",
       "      <td>Mel</td>\n",
       "      <td>975</td>\n",
       "    </tr>\n",
       "  </tbody>\n",
       "</table>\n",
       "</div>"
      ],
      "text/plain": [
       "  Names  Births\n",
       "0   Bob     968\n",
       "1  Jess     155\n",
       "2  Mary      77\n",
       "3  John     600\n",
       "4   Mel     975"
      ]
     },
     "execution_count": 18,
     "metadata": {},
     "output_type": "execute_result"
    }
   ],
   "source": [
    "df5"
   ]
  },
  {
   "cell_type": "code",
   "execution_count": 20,
   "metadata": {
    "collapsed": false
   },
   "outputs": [
    {
     "data": {
      "text/plain": [
       "Names     object\n",
       "Births     int64\n",
       "dtype: object"
      ]
     },
     "execution_count": 20,
     "metadata": {},
     "output_type": "execute_result"
    }
   ],
   "source": [
    "df5.dtypes\n"
   ]
  },
  {
   "cell_type": "code",
   "execution_count": 21,
   "metadata": {
    "collapsed": false
   },
   "outputs": [
    {
     "data": {
      "text/plain": [
       "dtype('int64')"
      ]
     },
     "execution_count": 21,
     "metadata": {},
     "output_type": "execute_result"
    }
   ],
   "source": [
    "df5.Births.dtype"
   ]
  },
  {
   "cell_type": "code",
   "execution_count": 23,
   "metadata": {
    "collapsed": false
   },
   "outputs": [
    {
     "data": {
      "text/plain": [
       "0     Bob\n",
       "1    Jess\n",
       "2    Mary\n",
       "3    John\n",
       "4     Mel\n",
       "Name: Names, dtype: object"
      ]
     },
     "execution_count": 23,
     "metadata": {},
     "output_type": "execute_result"
    }
   ],
   "source": [
    "df5.Names"
   ]
  },
  {
   "cell_type": "code",
   "execution_count": 24,
   "metadata": {
    "collapsed": false
   },
   "outputs": [
    {
     "data": {
      "text/plain": [
       "0    968\n",
       "1    155\n",
       "2     77\n",
       "3    600\n",
       "4    975\n",
       "Name: Births, dtype: int64"
      ]
     },
     "execution_count": 24,
     "metadata": {},
     "output_type": "execute_result"
    }
   ],
   "source": [
    "df5.Births"
   ]
  },
  {
   "cell_type": "code",
   "execution_count": 42,
   "metadata": {
    "collapsed": false
   },
   "outputs": [],
   "source": [
    "import matplotlib.pyplot as plt\n",
    "%matplotlib inline"
   ]
  },
  {
   "cell_type": "code",
   "execution_count": 43,
   "metadata": {
    "collapsed": false
   },
   "outputs": [
    {
     "data": {
      "text/plain": [
       "4    Mel\n",
       "Name: Names, dtype: object"
      ]
     },
     "execution_count": 43,
     "metadata": {},
     "output_type": "execute_result"
    }
   ],
   "source": [
    "df5.Names[df5.Births == df5.Births.max()]"
   ]
  },
  {
   "cell_type": "code",
   "execution_count": 44,
   "metadata": {
    "collapsed": false
   },
   "outputs": [
    {
     "data": {
      "text/plain": [
       "<matplotlib.axes._subplots.AxesSubplot at 0x106a540d0>"
      ]
     },
     "execution_count": 44,
     "metadata": {},
     "output_type": "execute_result"
    },
    {
     "data": {
      "image/png": "[encoded data removed]",
      "text/plain": [
       "<matplotlib.figure.Figure at 0x10a43fd50>"
      ]
     },
     "metadata": {},
     "output_type": "display_data"
    }
   ],
   "source": [
    "df5['Births'].plot()"
   ]
  },
  {
   "cell_type": "code",
   "execution_count": 45,
   "metadata": {
    "collapsed": true
   },
   "outputs": [],
   "source": [
    "import numpy as np"
   ]
  },
  {
   "cell_type": "code",
   "execution_count": 46,
   "metadata": {
    "collapsed": true
   },
   "outputs": [],
   "source": [
    "import sys"
   ]
  },
  {
   "cell_type": "code",
   "execution_count": 47,
   "metadata": {
    "collapsed": true
   },
   "outputs": [],
   "source": [
    "names = ['Bob','Jessica','Mary','John','Mel']"
   ]
  },
  {
   "cell_type": "code",
   "execution_count": 53,
   "metadata": {
    "collapsed": false
   },
   "outputs": [],
   "source": [
    "np.random.seed(501)"
   ]
  },
  {
   "cell_type": "code",
   "execution_count": 57,
   "metadata": {
    "collapsed": false
   },
   "outputs": [
    {
     "data": {
      "text/plain": [
       "'Jessica'"
      ]
     },
     "execution_count": 57,
     "metadata": {},
     "output_type": "execute_result"
    }
   ],
   "source": [
    "names[np.random.randint(low=0,high=len(names))]"
   ]
  },
  {
   "cell_type": "code",
   "execution_count": 54,
   "metadata": {
    "collapsed": true
   },
   "outputs": [],
   "source": [
    "random_names=[names[np.random.randint(low=0,high=len(names))] for i in range(1000)]"
   ]
  },
  {
   "cell_type": "code",
   "execution_count": 55,
   "metadata": {
    "collapsed": false
   },
   "outputs": [
    {
     "data": {
      "text/plain": [
       "['Bob',\n",
       " 'John',\n",
       " 'Mel',\n",
       " 'Bob',\n",
       " 'Mary',\n",
       " 'Bob',\n",
       " 'Jessica',\n",
       " 'Mel',\n",
       " 'Bob',\n",
       " 'Jessica',\n",
       " 'Jessica',\n",
       " 'Jessica',\n",
       " 'Mary',\n",
       " 'Mary',\n",
       " 'John',\n",
       " 'John',\n",
       " 'Mary',\n",
       " 'Bob',\n",
       " 'Mel',\n",
       " 'John',\n",
       " 'John',\n",
       " 'Jessica',\n",
       " 'Jessica',\n",
       " 'Jessica',\n",
       " 'Bob',\n",
       " 'Mel',\n",
       " 'Jessica',\n",
       " 'Mel',\n",
       " 'Bob',\n",
       " 'Bob',\n",
       " 'Jessica',\n",
       " 'Mary',\n",
       " 'Mel',\n",
       " 'Mel',\n",
       " 'Bob',\n",
       " 'John',\n",
       " 'Mary',\n",
       " 'Bob',\n",
       " 'John',\n",
       " 'Mary',\n",
       " 'Mary',\n",
       " 'Mel',\n",
       " 'John',\n",
       " 'Bob',\n",
       " 'Jessica',\n",
       " 'Bob',\n",
       " 'Mel',\n",
       " 'Mary',\n",
       " 'Bob',\n",
       " 'John',\n",
       " 'Mel',\n",
       " 'Mel',\n",
       " 'John',\n",
       " 'Mary',\n",
       " 'Mel',\n",
       " 'Mel',\n",
       " 'Mary',\n",
       " 'Jessica',\n",
       " 'Mary',\n",
       " 'John',\n",
       " 'Mel',\n",
       " 'Bob',\n",
       " 'Mary',\n",
       " 'Mary',\n",
       " 'Bob',\n",
       " 'Mel',\n",
       " 'John',\n",
       " 'Jessica',\n",
       " 'Mary',\n",
       " 'Bob',\n",
       " 'Jessica',\n",
       " 'Bob',\n",
       " 'Bob',\n",
       " 'John',\n",
       " 'Mary',\n",
       " 'Mary',\n",
       " 'Jessica',\n",
       " 'Mary',\n",
       " 'Jessica',\n",
       " 'John',\n",
       " 'John',\n",
       " 'Bob',\n",
       " 'John',\n",
       " 'Jessica',\n",
       " 'Bob',\n",
       " 'Mel',\n",
       " 'Mel',\n",
       " 'Mary',\n",
       " 'Mel',\n",
       " 'Bob',\n",
       " 'Bob',\n",
       " 'Mel',\n",
       " 'John',\n",
       " 'Mary',\n",
       " 'Jessica',\n",
       " 'John',\n",
       " 'Jessica',\n",
       " 'Jessica',\n",
       " 'John',\n",
       " 'John']"
      ]
     },
     "execution_count": 55,
     "metadata": {},
     "output_type": "execute_result"
    }
   ],
   "source": [
    "random_names[:100]"
   ]
  },
  {
   "cell_type": "code",
   "execution_count": 59,
   "metadata": {
    "collapsed": false
   },
   "outputs": [],
   "source": [
    "births = [np.random.randint(low=0,high=1000) for i in range(1000)]"
   ]
  },
  {
   "cell_type": "code",
   "execution_count": 60,
   "metadata": {
    "collapsed": false
   },
   "outputs": [
    {
     "data": {
      "text/plain": [
       "[514,\n",
       " 157,\n",
       " 188,\n",
       " 741,\n",
       " 517,\n",
       " 400,\n",
       " 977,\n",
       " 117,\n",
       " 855,\n",
       " 755,\n",
       " 755,\n",
       " 697,\n",
       " 533,\n",
       " 519,\n",
       " 10,\n",
       " 51,\n",
       " 304,\n",
       " 264,\n",
       " 142,\n",
       " 320,\n",
       " 332,\n",
       " 287,\n",
       " 337,\n",
       " 436,\n",
       " 840,\n",
       " 38,\n",
       " 886,\n",
       " 499,\n",
       " 340,\n",
       " 757,\n",
       " 416,\n",
       " 426,\n",
       " 480,\n",
       " 260,\n",
       " 36,\n",
       " 273,\n",
       " 636,\n",
       " 391,\n",
       " 221,\n",
       " 741,\n",
       " 16,\n",
       " 81,\n",
       " 651,\n",
       " 402,\n",
       " 10,\n",
       " 418,\n",
       " 42,\n",
       " 122,\n",
       " 636,\n",
       " 846,\n",
       " 96,\n",
       " 83,\n",
       " 790,\n",
       " 461,\n",
       " 550,\n",
       " 408,\n",
       " 757,\n",
       " 843,\n",
       " 590,\n",
       " 447,\n",
       " 712,\n",
       " 164,\n",
       " 758,\n",
       " 840,\n",
       " 305,\n",
       " 866,\n",
       " 57,\n",
       " 258,\n",
       " 672,\n",
       " 554,\n",
       " 982,\n",
       " 683,\n",
       " 953,\n",
       " 797,\n",
       " 875,\n",
       " 688,\n",
       " 862,\n",
       " 697,\n",
       " 223,\n",
       " 306,\n",
       " 787,\n",
       " 514,\n",
       " 621,\n",
       " 531,\n",
       " 289,\n",
       " 962,\n",
       " 571,\n",
       " 945,\n",
       " 512,\n",
       " 355,\n",
       " 312,\n",
       " 657,\n",
       " 907,\n",
       " 950,\n",
       " 778,\n",
       " 242,\n",
       " 372,\n",
       " 274,\n",
       " 454,\n",
       " 361,\n",
       " 157,\n",
       " 434,\n",
       " 583,\n",
       " 691,\n",
       " 792,\n",
       " 502,\n",
       " 826,\n",
       " 435,\n",
       " 637,\n",
       " 783,\n",
       " 158,\n",
       " 646,\n",
       " 392,\n",
       " 813,\n",
       " 490,\n",
       " 863,\n",
       " 639,\n",
       " 558,\n",
       " 378,\n",
       " 272,\n",
       " 243,\n",
       " 231,\n",
       " 578,\n",
       " 854,\n",
       " 451,\n",
       " 876,\n",
       " 278,\n",
       " 731,\n",
       " 89,\n",
       " 312,\n",
       " 598,\n",
       " 641,\n",
       " 253,\n",
       " 841,\n",
       " 963,\n",
       " 826,\n",
       " 421,\n",
       " 120,\n",
       " 42,\n",
       " 235,\n",
       " 787,\n",
       " 641,\n",
       " 704,\n",
       " 970,\n",
       " 522,\n",
       " 614,\n",
       " 402,\n",
       " 860,\n",
       " 385,\n",
       " 22,\n",
       " 750,\n",
       " 601,\n",
       " 810,\n",
       " 121,\n",
       " 887,\n",
       " 201,\n",
       " 471,\n",
       " 918,\n",
       " 65,\n",
       " 650,\n",
       " 46,\n",
       " 353,\n",
       " 721,\n",
       " 709,\n",
       " 193,\n",
       " 217,\n",
       " 819,\n",
       " 992,\n",
       " 924,\n",
       " 104,\n",
       " 534,\n",
       " 964,\n",
       " 351,\n",
       " 403,\n",
       " 849,\n",
       " 142,\n",
       " 435,\n",
       " 428,\n",
       " 175,\n",
       " 372,\n",
       " 91,\n",
       " 329,\n",
       " 302,\n",
       " 732,\n",
       " 844,\n",
       " 332,\n",
       " 207,\n",
       " 122,\n",
       " 811,\n",
       " 338,\n",
       " 624,\n",
       " 185,\n",
       " 534,\n",
       " 622,\n",
       " 395,\n",
       " 539,\n",
       " 940,\n",
       " 140,\n",
       " 479,\n",
       " 222,\n",
       " 249,\n",
       " 791,\n",
       " 694,\n",
       " 265,\n",
       " 34,\n",
       " 845,\n",
       " 374,\n",
       " 772,\n",
       " 996,\n",
       " 276,\n",
       " 881,\n",
       " 623,\n",
       " 259,\n",
       " 508,\n",
       " 250,\n",
       " 19,\n",
       " 545,\n",
       " 772,\n",
       " 598,\n",
       " 720,\n",
       " 192,\n",
       " 868,\n",
       " 620,\n",
       " 971,\n",
       " 868,\n",
       " 852,\n",
       " 771,\n",
       " 803,\n",
       " 498,\n",
       " 632,\n",
       " 699,\n",
       " 300,\n",
       " 978,\n",
       " 276,\n",
       " 716,\n",
       " 745,\n",
       " 641,\n",
       " 897,\n",
       " 904,\n",
       " 181,\n",
       " 437,\n",
       " 749,\n",
       " 500,\n",
       " 354,\n",
       " 865,\n",
       " 326,\n",
       " 507,\n",
       " 790,\n",
       " 99,\n",
       " 779,\n",
       " 53,\n",
       " 714,\n",
       " 549,\n",
       " 464,\n",
       " 884,\n",
       " 496,\n",
       " 863,\n",
       " 445,\n",
       " 435,\n",
       " 960,\n",
       " 54,\n",
       " 233,\n",
       " 964,\n",
       " 636,\n",
       " 504,\n",
       " 357,\n",
       " 137,\n",
       " 721,\n",
       " 75,\n",
       " 279,\n",
       " 440,\n",
       " 553,\n",
       " 105,\n",
       " 473,\n",
       " 107,\n",
       " 155,\n",
       " 431,\n",
       " 893,\n",
       " 336,\n",
       " 994,\n",
       " 574,\n",
       " 214,\n",
       " 340,\n",
       " 989,\n",
       " 635,\n",
       " 991,\n",
       " 160,\n",
       " 900,\n",
       " 909,\n",
       " 265,\n",
       " 421,\n",
       " 287,\n",
       " 741,\n",
       " 884,\n",
       " 666,\n",
       " 545,\n",
       " 543,\n",
       " 51,\n",
       " 209,\n",
       " 967,\n",
       " 52,\n",
       " 662,\n",
       " 669,\n",
       " 28,\n",
       " 661,\n",
       " 520,\n",
       " 965,\n",
       " 306,\n",
       " 977,\n",
       " 79,\n",
       " 897,\n",
       " 76,\n",
       " 102,\n",
       " 994,\n",
       " 438,\n",
       " 578,\n",
       " 125,\n",
       " 759,\n",
       " 403,\n",
       " 12,\n",
       " 386,\n",
       " 727,\n",
       " 58,\n",
       " 940,\n",
       " 924,\n",
       " 835,\n",
       " 752,\n",
       " 429,\n",
       " 788,\n",
       " 107,\n",
       " 763,\n",
       " 333,\n",
       " 700,\n",
       " 685,\n",
       " 555,\n",
       " 109,\n",
       " 167,\n",
       " 629,\n",
       " 201,\n",
       " 107,\n",
       " 133,\n",
       " 842,\n",
       " 239,\n",
       " 197,\n",
       " 497,\n",
       " 732,\n",
       " 422,\n",
       " 668,\n",
       " 18,\n",
       " 268,\n",
       " 876,\n",
       " 591,\n",
       " 350,\n",
       " 361,\n",
       " 749,\n",
       " 882,\n",
       " 512,\n",
       " 691,\n",
       " 144,\n",
       " 773,\n",
       " 290,\n",
       " 513,\n",
       " 774,\n",
       " 952,\n",
       " 706,\n",
       " 660,\n",
       " 960,\n",
       " 742,\n",
       " 439,\n",
       " 243,\n",
       " 680,\n",
       " 40,\n",
       " 651,\n",
       " 577,\n",
       " 897,\n",
       " 68,\n",
       " 292,\n",
       " 812,\n",
       " 931,\n",
       " 963,\n",
       " 402,\n",
       " 267,\n",
       " 731,\n",
       " 889,\n",
       " 419,\n",
       " 792,\n",
       " 630,\n",
       " 445,\n",
       " 493,\n",
       " 349,\n",
       " 91,\n",
       " 742,\n",
       " 531,\n",
       " 137,\n",
       " 353,\n",
       " 94,\n",
       " 141,\n",
       " 439,\n",
       " 453,\n",
       " 710,\n",
       " 27,\n",
       " 972,\n",
       " 56,\n",
       " 286,\n",
       " 932,\n",
       " 317,\n",
       " 119,\n",
       " 678,\n",
       " 494,\n",
       " 367,\n",
       " 665,\n",
       " 814,\n",
       " 205,\n",
       " 329,\n",
       " 441,\n",
       " 886,\n",
       " 730,\n",
       " 266,\n",
       " 270,\n",
       " 243,\n",
       " 33,\n",
       " 194,\n",
       " 345,\n",
       " 862,\n",
       " 545,\n",
       " 324,\n",
       " 370,\n",
       " 872,\n",
       " 996,\n",
       " 312,\n",
       " 380,\n",
       " 992,\n",
       " 493,\n",
       " 308,\n",
       " 761,\n",
       " 856,\n",
       " 646,\n",
       " 481,\n",
       " 276,\n",
       " 399,\n",
       " 407,\n",
       " 300,\n",
       " 720,\n",
       " 138,\n",
       " 341,\n",
       " 876,\n",
       " 271,\n",
       " 987,\n",
       " 732,\n",
       " 886,\n",
       " 482,\n",
       " 485,\n",
       " 151,\n",
       " 125,\n",
       " 685,\n",
       " 251,\n",
       " 651,\n",
       " 53,\n",
       " 518,\n",
       " 348,\n",
       " 10,\n",
       " 219,\n",
       " 713,\n",
       " 281,\n",
       " 587,\n",
       " 950,\n",
       " 515,\n",
       " 224,\n",
       " 72,\n",
       " 73,\n",
       " 400,\n",
       " 51,\n",
       " 525,\n",
       " 141,\n",
       " 966,\n",
       " 817,\n",
       " 158,\n",
       " 940,\n",
       " 802,\n",
       " 93,\n",
       " 464,\n",
       " 946,\n",
       " 883,\n",
       " 758,\n",
       " 509,\n",
       " 892,\n",
       " 251,\n",
       " 817,\n",
       " 658,\n",
       " 197,\n",
       " 410,\n",
       " 263,\n",
       " 760,\n",
       " 784,\n",
       " 651,\n",
       " 184,\n",
       " 704,\n",
       " 797,\n",
       " 460,\n",
       " 961,\n",
       " 161,\n",
       " 535,\n",
       " 267,\n",
       " 988,\n",
       " 302,\n",
       " 838,\n",
       " 350,\n",
       " 948,\n",
       " 736,\n",
       " 856,\n",
       " 949,\n",
       " 701,\n",
       " 610,\n",
       " 592,\n",
       " 585,\n",
       " 988,\n",
       " 396,\n",
       " 525,\n",
       " 314,\n",
       " 237,\n",
       " 438,\n",
       " 822,\n",
       " 202,\n",
       " 946,\n",
       " 952,\n",
       " 280,\n",
       " 102,\n",
       " 446,\n",
       " 507,\n",
       " 466,\n",
       " 96,\n",
       " 156,\n",
       " 737,\n",
       " 273,\n",
       " 77,\n",
       " 401,\n",
       " 449,\n",
       " 51,\n",
       " 380,\n",
       " 734,\n",
       " 947,\n",
       " 757,\n",
       " 356,\n",
       " 82,\n",
       " 490,\n",
       " 133,\n",
       " 574,\n",
       " 443,\n",
       " 620,\n",
       " 158,\n",
       " 425,\n",
       " 98,\n",
       " 364,\n",
       " 588,\n",
       " 297,\n",
       " 833,\n",
       " 706,\n",
       " 315,\n",
       " 413,\n",
       " 810,\n",
       " 712,\n",
       " 423,\n",
       " 899,\n",
       " 380,\n",
       " 506,\n",
       " 923,\n",
       " 219,\n",
       " 893,\n",
       " 687,\n",
       " 635,\n",
       " 88,\n",
       " 461,\n",
       " 918,\n",
       " 807,\n",
       " 361,\n",
       " 164,\n",
       " 842,\n",
       " 638,\n",
       " 533,\n",
       " 442,\n",
       " 858,\n",
       " 355,\n",
       " 40,\n",
       " 486,\n",
       " 187,\n",
       " 227,\n",
       " 939,\n",
       " 573,\n",
       " 765,\n",
       " 249,\n",
       " 659,\n",
       " 872,\n",
       " 130,\n",
       " 120,\n",
       " 806,\n",
       " 94,\n",
       " 275,\n",
       " 880,\n",
       " 45,\n",
       " 519,\n",
       " 981,\n",
       " 4,\n",
       " 756,\n",
       " 9,\n",
       " 362,\n",
       " 271,\n",
       " 589,\n",
       " 759,\n",
       " 700,\n",
       " 158,\n",
       " 965,\n",
       " 659,\n",
       " 611,\n",
       " 477,\n",
       " 184,\n",
       " 443,\n",
       " 985,\n",
       " 802,\n",
       " 256,\n",
       " 803,\n",
       " 848,\n",
       " 523,\n",
       " 386,\n",
       " 517,\n",
       " 519,\n",
       " 173,\n",
       " 485,\n",
       " 627,\n",
       " 411,\n",
       " 814,\n",
       " 140,\n",
       " 304,\n",
       " 671,\n",
       " 125,\n",
       " 962,\n",
       " 492,\n",
       " 580,\n",
       " 225,\n",
       " 413,\n",
       " 555,\n",
       " 633,\n",
       " 230,\n",
       " 275,\n",
       " 508,\n",
       " 538,\n",
       " 509,\n",
       " 483,\n",
       " 818,\n",
       " 104,\n",
       " 452,\n",
       " 476,\n",
       " 268,\n",
       " 64,\n",
       " 359,\n",
       " 247,\n",
       " 306,\n",
       " 617,\n",
       " 215,\n",
       " 932,\n",
       " 802,\n",
       " 42,\n",
       " 847,\n",
       " 787,\n",
       " 768,\n",
       " 980,\n",
       " 68,\n",
       " 309,\n",
       " 505,\n",
       " 965,\n",
       " 452,\n",
       " 961,\n",
       " 171,\n",
       " 554,\n",
       " 36,\n",
       " 716,\n",
       " 845,\n",
       " 546,\n",
       " 440,\n",
       " 275,\n",
       " 968,\n",
       " 938,\n",
       " 203,\n",
       " 809,\n",
       " 397,\n",
       " 435,\n",
       " 430,\n",
       " 18,\n",
       " 876,\n",
       " 513,\n",
       " 625,\n",
       " 525,\n",
       " 169,\n",
       " 76,\n",
       " 552,\n",
       " 962,\n",
       " 129,\n",
       " 647,\n",
       " 382,\n",
       " 106,\n",
       " 868,\n",
       " 635,\n",
       " 901,\n",
       " 218,\n",
       " 969,\n",
       " 310,\n",
       " 126,\n",
       " 130,\n",
       " 477,\n",
       " 141,\n",
       " 915,\n",
       " 594,\n",
       " 966,\n",
       " 541,\n",
       " 870,\n",
       " 425,\n",
       " 49,\n",
       " 421,\n",
       " 656,\n",
       " 69,\n",
       " 320,\n",
       " 740,\n",
       " 681,\n",
       " 75,\n",
       " 934,\n",
       " 591,\n",
       " 909,\n",
       " 448,\n",
       " 846,\n",
       " 9,\n",
       " 235,\n",
       " 552,\n",
       " 715,\n",
       " 66,\n",
       " 124,\n",
       " 769,\n",
       " 581,\n",
       " 242,\n",
       " 459,\n",
       " 280,\n",
       " 304,\n",
       " 669,\n",
       " 132,\n",
       " 834,\n",
       " 202,\n",
       " 310,\n",
       " 115,\n",
       " 754,\n",
       " 660,\n",
       " 818,\n",
       " 121,\n",
       " 5,\n",
       " 45,\n",
       " 382,\n",
       " 448,\n",
       " 628,\n",
       " 300,\n",
       " 981,\n",
       " 561,\n",
       " 725,\n",
       " 198,\n",
       " 872,\n",
       " 326,\n",
       " 558,\n",
       " 213,\n",
       " 271,\n",
       " 615,\n",
       " 959,\n",
       " 507,\n",
       " 211,\n",
       " 425,\n",
       " 722,\n",
       " 884,\n",
       " 657,\n",
       " 394,\n",
       " 767,\n",
       " 973,\n",
       " 874,\n",
       " 944,\n",
       " 330,\n",
       " 34,\n",
       " 43,\n",
       " 241,\n",
       " 80,\n",
       " 797,\n",
       " 31,\n",
       " 701,\n",
       " 787,\n",
       " 28,\n",
       " 563,\n",
       " 557,\n",
       " 808,\n",
       " 153,\n",
       " 56,\n",
       " 490,\n",
       " 609,\n",
       " 895,\n",
       " 12,\n",
       " 711,\n",
       " 929,\n",
       " 33,\n",
       " 107,\n",
       " 396,\n",
       " 732,\n",
       " 12,\n",
       " 6,\n",
       " 736,\n",
       " 248,\n",
       " 696,\n",
       " 392,\n",
       " 667,\n",
       " 873,\n",
       " 533,\n",
       " 737,\n",
       " 112,\n",
       " 385,\n",
       " 861,\n",
       " 964,\n",
       " 530,\n",
       " 637,\n",
       " 428,\n",
       " 643,\n",
       " 150,\n",
       " 613,\n",
       " 465,\n",
       " 997,\n",
       " 676,\n",
       " 465,\n",
       " 522,\n",
       " 982,\n",
       " 488,\n",
       " 721,\n",
       " 431,\n",
       " 208,\n",
       " 659,\n",
       " 632,\n",
       " 652,\n",
       " 921,\n",
       " 16,\n",
       " 253,\n",
       " 775,\n",
       " 366,\n",
       " 854,\n",
       " 663,\n",
       " 84,\n",
       " 801,\n",
       " 837,\n",
       " 658,\n",
       " 859,\n",
       " 401,\n",
       " 653,\n",
       " 949,\n",
       " 87,\n",
       " 862,\n",
       " 524,\n",
       " 588,\n",
       " 314,\n",
       " 421,\n",
       " 770,\n",
       " 17,\n",
       " 402,\n",
       " 280,\n",
       " 437,\n",
       " 32,\n",
       " 275,\n",
       " 283,\n",
       " 178,\n",
       " 679,\n",
       " 488,\n",
       " 422,\n",
       " 813,\n",
       " 923,\n",
       " 931,\n",
       " 309,\n",
       " 94,\n",
       " 830,\n",
       " 254,\n",
       " 415,\n",
       " 903,\n",
       " 977,\n",
       " 150,\n",
       " 966,\n",
       " 98,\n",
       " 699,\n",
       " 733,\n",
       " 704,\n",
       " 184,\n",
       " 857,\n",
       " 893,\n",
       " 487,\n",
       " 159,\n",
       " 138,\n",
       " 419,\n",
       " 492,\n",
       " 134,\n",
       " 630,\n",
       " 949,\n",
       " 377,\n",
       " 186,\n",
       " 892,\n",
       " 720,\n",
       " 809,\n",
       " 398,\n",
       " 643,\n",
       " 57,\n",
       " 557,\n",
       " 550,\n",
       " 378,\n",
       " 167,\n",
       " 666,\n",
       " 979,\n",
       " 445,\n",
       " 711,\n",
       " 377,\n",
       " 103,\n",
       " 321,\n",
       " 0,\n",
       " 111,\n",
       " 985,\n",
       " 394,\n",
       " 395,\n",
       " 434,\n",
       " 902,\n",
       " 822,\n",
       " 604,\n",
       " 451,\n",
       " 778,\n",
       " 72,\n",
       " 673,\n",
       " 27,\n",
       " 413,\n",
       " 379,\n",
       " 589,\n",
       " 695,\n",
       " 528,\n",
       " 256,\n",
       " 631,\n",
       " 864,\n",
       " 283,\n",
       " 449,\n",
       " 369,\n",
       " 338,\n",
       " 796,\n",
       " 771,\n",
       " 419,\n",
       " 405,\n",
       " 525,\n",
       " 813,\n",
       " 489,\n",
       " 315,\n",
       " 391,\n",
       " 550,\n",
       " 152,\n",
       " 258,\n",
       " 278,\n",
       " 263,\n",
       " 657,\n",
       " 522,\n",
       " 681,\n",
       " 423,\n",
       " 410,\n",
       " 669,\n",
       " 605,\n",
       " 960,\n",
       " 952,\n",
       " 648,\n",
       " 437,\n",
       " 508,\n",
       " 626,\n",
       " 677,\n",
       " 724,\n",
       " 830,\n",
       " 828,\n",
       " 914,\n",
       " 436,\n",
       " 243,\n",
       " 311,\n",
       " 136,\n",
       " 124,\n",
       " 891,\n",
       " 646,\n",
       " 179,\n",
       " 576,\n",
       " 798,\n",
       " 397,\n",
       " 701,\n",
       " 20,\n",
       " 850,\n",
       " 538,\n",
       " 734,\n",
       " 924,\n",
       " 476,\n",
       " 681,\n",
       " 457,\n",
       " 982,\n",
       " 995,\n",
       " 913,\n",
       " 379,\n",
       " 351,\n",
       " 918,\n",
       " 885]"
      ]
     },
     "execution_count": 60,
     "metadata": {},
     "output_type": "execute_result"
    }
   ],
   "source": [
    "births"
   ]
  },
  {
   "cell_type": "code",
   "execution_count": 61,
   "metadata": {
    "collapsed": true
   },
   "outputs": [],
   "source": [
    "data=zip(random_names,births)"
   ]
  },
  {
   "cell_type": "code",
   "execution_count": 62,
   "metadata": {
    "collapsed": false
   },
   "outputs": [
    {
     "data": {
      "text/plain": [
       "[('Bob', 514),\n",
       " ('John', 157),\n",
       " ('Mel', 188),\n",
       " ('Bob', 741),\n",
       " ('Mary', 517),\n",
       " ('Bob', 400),\n",
       " ('Jessica', 977),\n",
       " ('Mel', 117),\n",
       " ('Bob', 855),\n",
       " ('Jessica', 755)]"
      ]
     },
     "execution_count": 62,
     "metadata": {},
     "output_type": "execute_result"
    }
   ],
   "source": [
    "data[:10]"
   ]
  },
  {
   "cell_type": "code",
   "execution_count": 63,
   "metadata": {
    "collapsed": true
   },
   "outputs": [],
   "source": [
    "df6=pd.DataFrame(data, columns=['Names', 'Births'])"
   ]
  },
  {
   "cell_type": "code",
   "execution_count": 65,
   "metadata": {
    "collapsed": false
   },
   "outputs": [
    {
     "data": {
      "text/plain": [
       "array(['Bob', 'John', 'Mel', 'Mary', 'Jessica'], dtype=object)"
      ]
     },
     "execution_count": 65,
     "metadata": {},
     "output_type": "execute_result"
    }
   ],
   "source": [
    "df6['Names'].unique()"
   ]
  },
  {
   "cell_type": "code",
   "execution_count": 66,
   "metadata": {
    "collapsed": true
   },
   "outputs": [],
   "source": [
    "namegrp = df6.groupby('Names')"
   ]
  },
  {
   "cell_type": "code",
   "execution_count": 72,
   "metadata": {
    "collapsed": false
   },
   "outputs": [
    {
     "data": {
      "text/html": [
       "<div>\n",
       "<table border=\"1\" class=\"dataframe\">\n",
       "  <thead>\n",
       "    <tr style=\"text-align: right;\">\n",
       "      <th></th>\n",
       "      <th>Births</th>\n",
       "    </tr>\n",
       "    <tr>\n",
       "      <th>Names</th>\n",
       "      <th></th>\n",
       "    </tr>\n",
       "  </thead>\n",
       "  <tbody>\n",
       "    <tr>\n",
       "      <th>Bob</th>\n",
       "      <td>94199</td>\n",
       "    </tr>\n",
       "    <tr>\n",
       "      <th>Jessica</th>\n",
       "      <td>108342</td>\n",
       "    </tr>\n",
       "    <tr>\n",
       "      <th>John</th>\n",
       "      <td>103775</td>\n",
       "    </tr>\n",
       "    <tr>\n",
       "      <th>Mary</th>\n",
       "      <td>107842</td>\n",
       "    </tr>\n",
       "    <tr>\n",
       "      <th>Mel</th>\n",
       "      <td>96572</td>\n",
       "    </tr>\n",
       "  </tbody>\n",
       "</table>\n",
       "</div>"
      ],
      "text/plain": [
       "         Births\n",
       "Names          \n",
       "Bob       94199\n",
       "Jessica  108342\n",
       "John     103775\n",
       "Mary     107842\n",
       "Mel       96572"
      ]
     },
     "execution_count": 72,
     "metadata": {},
     "output_type": "execute_result"
    }
   ],
   "source": [
    "df7=namegrp.sum()\n",
    "df7"
   ]
  },
  {
   "cell_type": "code",
   "execution_count": 75,
   "metadata": {
    "collapsed": false
   },
   "outputs": [
    {
     "data": {
      "text/html": [
       "<div>\n",
       "<table border=\"1\" class=\"dataframe\">\n",
       "  <thead>\n",
       "    <tr style=\"text-align: right;\">\n",
       "      <th></th>\n",
       "      <th>Births</th>\n",
       "    </tr>\n",
       "    <tr>\n",
       "      <th>Names</th>\n",
       "      <th></th>\n",
       "    </tr>\n",
       "  </thead>\n",
       "  <tbody>\n",
       "    <tr>\n",
       "      <th>Jessica</th>\n",
       "      <td>108342</td>\n",
       "    </tr>\n",
       "    <tr>\n",
       "      <th>Mary</th>\n",
       "      <td>107842</td>\n",
       "    </tr>\n",
       "    <tr>\n",
       "      <th>John</th>\n",
       "      <td>103775</td>\n",
       "    </tr>\n",
       "    <tr>\n",
       "      <th>Mel</th>\n",
       "      <td>96572</td>\n",
       "    </tr>\n",
       "    <tr>\n",
       "      <th>Bob</th>\n",
       "      <td>94199</td>\n",
       "    </tr>\n",
       "  </tbody>\n",
       "</table>\n",
       "</div>"
      ],
      "text/plain": [
       "         Births\n",
       "Names          \n",
       "Jessica  108342\n",
       "Mary     107842\n",
       "John     103775\n",
       "Mel       96572\n",
       "Bob       94199"
      ]
     },
     "execution_count": 75,
     "metadata": {},
     "output_type": "execute_result"
    }
   ],
   "source": [
    "sorted=df7.sort(['Births'], ascending=False)\n",
    "sorted"
   ]
  },
  {
   "cell_type": "code",
   "execution_count": 77,
   "metadata": {
    "collapsed": false
   },
   "outputs": [
    {
     "data": {
      "text/plain": [
       "108342"
      ]
     },
     "execution_count": 77,
     "metadata": {},
     "output_type": "execute_result"
    }
   ],
   "source": [
    "df7['Births'].max()"
   ]
  },
  {
   "cell_type": "code",
   "execution_count": 84,
   "metadata": {
    "collapsed": false
   },
   "outputs": [
    {
     "data": {
      "text/plain": [
       "<matplotlib.axes._subplots.AxesSubplot at 0x10ae16d10>"
      ]
     },
     "execution_count": 84,
     "metadata": {},
     "output_type": "execute_result"
    },
    {
     "data": {
      "image/png": "[encoded data removed]",
      "text/plain": [
       "<matplotlib.figure.Figure at 0x1029c4450>"
      ]
     },
     "metadata": {},
     "output_type": "display_data"
    }
   ],
   "source": [
    "df7['Births'].plot(kind='bar')"
   ]
  },
  {
   "cell_type": "code",
   "execution_count": null,
   "metadata": {
    "collapsed": true
   },
   "outputs": [],
   "source": []
  },
  {
   "cell_type": "code",
   "execution_count": null,
   "metadata": {
    "collapsed": true
   },
   "outputs": [],
   "source": []
  },
  {
   "cell_type": "code",
   "execution_count": null,
   "metadata": {
    "collapsed": true
   },
   "outputs": [],
   "source": []
  },
  {
   "cell_type": "code",
   "execution_count": null,
   "metadata": {
    "collapsed": true
   },
   "outputs": [],
   "source": []
  },
  {
   "cell_type": "code",
   "execution_count": null,
   "metadata": {
    "collapsed": true
   },
   "outputs": [],
   "source": []
  },
  {
   "cell_type": "code",
   "execution_count": null,
   "metadata": {
    "collapsed": true
   },
   "outputs": [],
   "source": []
  },
  {
   "cell_type": "code",
   "execution_count": null,
   "metadata": {
    "collapsed": true
   },
   "outputs": [],
   "source": []
  },
  {
   "cell_type": "code",
   "execution_count": null,
   "metadata": {
    "collapsed": true
   },
   "outputs": [],
   "source": []
  },
  {
   "cell_type": "code",
   "execution_count": null,
   "metadata": {
    "collapsed": true
   },
   "outputs": [],
   "source": []
  },
  {
   "cell_type": "code",
   "execution_count": null,
   "metadata": {
    "collapsed": true
   },
   "outputs": [],
   "source": []
  },
  {
   "cell_type": "code",
   "execution_count": null,
   "metadata": {
    "collapsed": true
   },
   "outputs": [],
   "source": []
  },
  {
   "cell_type": "code",
   "execution_count": null,
   "metadata": {
    "collapsed": true
   },
   "outputs": [],
   "source": []
  }
 ],
 "metadata": {
  "kernelspec": {
   "display_name": "Python 2",
   "language": "python",
   "name": "python2"
  },
  "language_info": {
   "codemirror_mode": {
    "name": "ipython",
    "version": 2
   },
   "file_extension": ".py",
   "mimetype": "text/x-python",
   "name": "python",
   "nbconvert_exporter": "python",
   "pygments_lexer": "ipython2",
   "version": "2.7.10"
  }
 },
 "nbformat": 4,
 "nbformat_minor": 0
}
